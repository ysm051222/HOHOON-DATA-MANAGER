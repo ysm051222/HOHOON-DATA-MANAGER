{
 "cells": [
  {
   "cell_type": "markdown",
   "id": "f880d547",
   "metadata": {},
   "source": [
    "### 호형훈제 수학연구소 작업 루틴\n",
    "\n",
    "- 출석부와 스쿨링을 대조합니다. \n",
    "- 학생들의 OMR을 채점합니다.\n",
    "- 반값문자 및 보고문자를 작성합니다."
   ]
  },
  {
   "cell_type": "markdown",
   "id": "790c1993",
   "metadata": {},
   "source": [
    "#### 반 및 주차 설정\n",
    "\n",
    "- 월요일 - 1  / 화요일 - 2  /  수요일 - 3  / 목요일 - 4  / 금요일 - 5\n",
    "/ 토요일 - 6  / 일요일 - 7\n",
    "\n",
    "- 아침 - 1  / 오후 - 2  / 저녁 - 3\n",
    "- 정병호 선생님 - 1  /  정병훈 선생님 - 2\n",
    "의 순서로 반을 입력해주시면 됩니다.\n",
    "\n",
    "ex. 일요일 저녁 정병호 선생님 반 - 731"
   ]
  },
  {
   "cell_type": "code",
   "execution_count": 1,
   "id": "7323d5ef",
   "metadata": {},
   "outputs": [],
   "source": [
    "ibeonju = input(\"아번 주가 몇 주차인지 알려주세요.\")\n",
    "ban = input(\"이 수업은 무슨 반인가요?\")"
   ]
  },
  {
   "cell_type": "code",
   "execution_count": null,
   "id": "4a17cc2c",
   "metadata": {},
   "outputs": [],
   "source": [
    "def makeset(type_document, type_insert) :        \n",
    "    if type_document == \"1\" :\n",
    "        print_document = \"출석부\"\n",
    "    elif type_document == \"2\" :\n",
    "        print_document = \"스쿨링\"\n",
    "    else :\n",
    "        print(\"오류입니다.\")\n",
    "    if type_insert == \"1\" :\n",
    "        print_insert = \"전화번호\"\n",
    "    elif type_insert == \"2\" :\n",
    "        print_insert = \"이름\"\n",
    "    else : \n",
    "        print(\"오류입니다.\")\n",
    "    list_ibeonju = input(f\"{print_document}의 {print_insert} 목록을 입력해주세요.\")\n",
    "    set_ibeonju = set(list_ibeonju)\n",
    "    return set_ibeonju"
   ]
  },
  {
   "cell_type": "markdown",
   "id": "9b8518d3",
   "metadata": {},
   "source": []
  }
 ],
 "metadata": {
  "kernelspec": {
   "display_name": "Python 3",
   "language": "python",
   "name": "python3"
  },
  "language_info": {
   "codemirror_mode": {
    "name": "ipython",
    "version": 3
   },
   "file_extension": ".py",
   "mimetype": "text/x-python",
   "name": "python",
   "nbconvert_exporter": "python",
   "pygments_lexer": "ipython3",
   "version": "3.12.1"
  }
 },
 "nbformat": 4,
 "nbformat_minor": 5
}
